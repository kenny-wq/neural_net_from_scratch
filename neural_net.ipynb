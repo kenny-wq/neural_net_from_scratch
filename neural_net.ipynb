{
 "cells": [
  {
   "cell_type": "code",
   "execution_count": 117,
   "metadata": {},
   "outputs": [],
   "source": [
    "import numpy as np\n",
    "import pandas as pd\n",
    "import matplotlib.pyplot as plt"
   ]
  },
  {
   "cell_type": "code",
   "execution_count": 118,
   "metadata": {},
   "outputs": [],
   "source": [
    "def generate_y(x: np.ndarray):\n",
    "    return x[:,0] * 1 + x[:,1] * 2 + x[:,2] * 3 + x[:,3] * 4 + x[:,4] * 5"
   ]
  },
  {
   "cell_type": "code",
   "execution_count": 119,
   "metadata": {},
   "outputs": [],
   "source": [
    "def relu(x: np.ndarray):\n",
    "    return np.maximum(0,x)"
   ]
  },
  {
   "cell_type": "code",
   "execution_count": 120,
   "metadata": {},
   "outputs": [],
   "source": [
    "def d_relu(x: np.ndarray):\n",
    "    return x > 0"
   ]
  },
  {
   "cell_type": "code",
   "execution_count": 121,
   "metadata": {},
   "outputs": [],
   "source": [
    "def mse_loss(y: np.ndarray, label: np.ndarray):\n",
    "    error = 0\n",
    "    for i in range(len(y)):\n",
    "        error += (y[i,0] - label[i,0])**2\n",
    "    return error"
   ]
  },
  {
   "cell_type": "code",
   "execution_count": 122,
   "metadata": {},
   "outputs": [],
   "source": [
    "def d_mse_loss(y: np.ndarray, label: np.ndarray):\n",
    "    return 2*(y - label)"
   ]
  },
  {
   "cell_type": "code",
   "execution_count": 143,
   "metadata": {},
   "outputs": [
    {
     "data": {
      "text/plain": [
       "array([[0., 0., 0., 0., 0.],\n",
       "       [0., 0., 0., 0., 0.],\n",
       "       [0., 0., 0., 0., 0.],\n",
       "       [0., 0., 0., 0., 0.],\n",
       "       [0., 0., 0., 0., 0.]])"
      ]
     },
     "execution_count": 143,
     "metadata": {},
     "output_type": "execute_result"
    }
   ],
   "source": [
    "np.zeros((5,5))"
   ]
  },
  {
   "cell_type": "code",
   "execution_count": 148,
   "metadata": {},
   "outputs": [],
   "source": [
    "class Layer:\n",
    "    def __init__(self,data_size, feature_number, neuron_number, linear: bool, lr: float, final: bool):\n",
    "        self.input = np.random.rand(data_size,feature_number)\n",
    "        self.weight = np.random.rand(feature_number,neuron_number)\n",
    "        self.output = np.random.rand(data_size,1)\n",
    "        self.linear = linear\n",
    "        self.lr = lr\n",
    "        self.final = final\n",
    "\n",
    "    def forward(self, input: np.ndarray):\n",
    "        self.input = input \n",
    "        if self.linear == True:\n",
    "            self.output = np.dot(input, self.weight) \n",
    "        else:\n",
    "            self.output = relu(np.dot(input,self.weight)) \n",
    "        self.z = np.dot(input, self.weight) \n",
    "\n",
    "    def backward(self, input: np.ndarray, lr: float, d_loss: np.ndarray):\n",
    "        if self.final == True: # \n",
    "            self.backgradient = d_loss\n",
    "            return np.dot(self.backgradient, self.weight.T) \n",
    "        else:\n",
    "            self.backgradient = np.multiply(d_relu(self.z),d_loss) \n",
    "            return np.dot(self.backgradient, self.weight.T) \n",
    "\n",
    "    def update(self, lr: float):\n",
    "        if self.final == True:\n",
    "            gradient = np.dot(self.input.T, self.backgradient) \n",
    "            self.weight -= lr * gradient\n",
    "        else:\n",
    "            gradient = np.dot(self.input.T, self.backgradient) \n",
    "            self.weight -= lr * gradient"
   ]
  },
  {
   "cell_type": "code",
   "execution_count": 155,
   "metadata": {},
   "outputs": [],
   "source": [
    "class NeuralNet:\n",
    "    def __init__(self, train_X: np.ndarray, train_y: np.ndarray, neuron_number, lr: float) -> None:\n",
    "        self.train_X = train_X\n",
    "        self.train_y = train_y\n",
    "        self.output = np.zeros(train_y.shape)\n",
    "        self.layer1 = Layer(len(train_X),len(train_X[0]), neuron_number, False, lr, False)\n",
    "        self.layer2 = Layer(len(train_X),len(train_X[0]), neuron_number, False, lr, False)\n",
    "        self.outputlayer = Layer(len(train_X),len(train_X[0]), 1, True, lr, True)\n",
    "        self.lr = lr\n",
    "        \n",
    "    def forward(self):\n",
    "        input = self.train_X\n",
    "        self.layer1.forward(input)\n",
    "        self.layer2.forward(self.layer1.output)\n",
    "        self.outputlayer.forward(self.layer2.output)\n",
    "        self.output = self.outputlayer.output\n",
    "        return self.output\n",
    "\n",
    "    def backward(self, d_loss: np.ndarray):\n",
    "        d_loss = self.outputlayer.backward(self.layer2.output,self.lr,d_loss)\n",
    "        d_loss = self.layer2.backward(self.layer1.output, self.lr, d_loss)\n",
    "        self.layer1.backward(self.train_X,self.lr,d_loss)\n",
    "\n",
    "    def update(self):\n",
    "        self.layer1.update(self.lr)\n",
    "        self.layer2.update(self.lr)\n",
    "        self.outputlayer.update(self.lr)\n",
    "\n",
    "    def train(self, times: int):\n",
    "        loss_list = []\n",
    "        for i in range(times):\n",
    "            self.forward()\n",
    "            loss = mse_loss(self.output, self.train_y)\n",
    "            loss_list.append(loss)\n",
    "            d_loss = d_mse_loss(self.output, self.train_y)\n",
    "            self.backward(d_loss)\n",
    "            self.update()\n",
    "\n",
    "            if loss < 0.001:\n",
    "                plt.plot(loss_list)\n",
    "                break\n",
    "        # print(loss_list)\n",
    "        plt.plot(loss_list)\n",
    "        \n",
    "    def predict(self, input: np.array):\n",
    "        self.layer1.forward(input)\n",
    "        self.layer2.forward(self.layer1.output)\n",
    "        self.outputlayer.forward(self.layer2.output)\n",
    "        return self.outputlayer.output\n"
   ]
  },
  {
   "cell_type": "code",
   "execution_count": 125,
   "metadata": {},
   "outputs": [],
   "source": [
    "x = np.random.randint(0,100,size=(100,5))"
   ]
  },
  {
   "cell_type": "code",
   "execution_count": 126,
   "metadata": {},
   "outputs": [
    {
     "data": {
      "text/plain": [
       "array([[40, 72, 18, 97, 75],\n",
       "       [71,  9, 55, 46, 71],\n",
       "       [96, 69, 58, 30, 62],\n",
       "       [ 4,  2, 50, 55, 26],\n",
       "       [39, 87, 10, 66,  2],\n",
       "       [50, 78, 92, 18, 12],\n",
       "       [35, 49, 11, 94, 24],\n",
       "       [61, 89, 90, 50, 88],\n",
       "       [27, 47, 68, 25, 19],\n",
       "       [50, 37, 65, 83, 35],\n",
       "       [79,  1,  4, 37,  5],\n",
       "       [48, 77, 42,  5, 66],\n",
       "       [75, 29, 93,  1, 72],\n",
       "       [55, 15, 31, 54, 28],\n",
       "       [31, 73, 50, 33,  9],\n",
       "       [33, 89, 22, 23, 92],\n",
       "       [94, 12, 87, 13, 49],\n",
       "       [20, 14, 76, 35, 60],\n",
       "       [50, 65, 59, 91,  3],\n",
       "       [74, 96, 75, 98, 89],\n",
       "       [37, 71, 95, 55, 49],\n",
       "       [69, 88,  3, 98, 92],\n",
       "       [18, 70, 65, 36, 51],\n",
       "       [59, 18, 50, 23, 23],\n",
       "       [72, 54, 80, 53, 34],\n",
       "       [36, 55, 97, 92,  3],\n",
       "       [40, 72,  0, 37, 63],\n",
       "       [45, 33, 90, 80, 29],\n",
       "       [72, 62,  6, 49, 27],\n",
       "       [45, 48, 80, 24, 76],\n",
       "       [12, 50, 17, 26, 11],\n",
       "       [62, 89, 55,  7, 18],\n",
       "       [65, 50, 20,  2, 82],\n",
       "       [23, 87, 92, 89, 20],\n",
       "       [37, 12, 17, 91, 23],\n",
       "       [37, 77,  5, 44, 29],\n",
       "       [44, 64,  8, 13, 58],\n",
       "       [24,  1, 13, 60, 35],\n",
       "       [ 2,  4, 95, 31, 79],\n",
       "       [81, 16, 30, 20, 95],\n",
       "       [93, 69, 30, 56, 82],\n",
       "       [20,  3, 67, 96, 96],\n",
       "       [13, 38, 50, 91, 60],\n",
       "       [42,  1, 24,  9, 64],\n",
       "       [10, 92, 95, 44, 27],\n",
       "       [29, 88, 74, 98, 83],\n",
       "       [93, 56, 72, 35, 12],\n",
       "       [ 6, 94, 51,  6, 47],\n",
       "       [90,  2, 39, 96, 34],\n",
       "       [81, 76, 44,  2, 50],\n",
       "       [87, 51, 82, 96, 90],\n",
       "       [12, 39, 94, 45, 18],\n",
       "       [29, 21, 31, 20, 95],\n",
       "       [76, 31, 79, 43, 86],\n",
       "       [85, 81, 90, 85, 65],\n",
       "       [21, 98, 41, 70, 82],\n",
       "       [96, 61, 65, 97, 80],\n",
       "       [72, 12, 81, 65, 51],\n",
       "       [28,  7, 68, 49,  4],\n",
       "       [40, 43, 75, 55, 13],\n",
       "       [42, 41,  9, 68, 30],\n",
       "       [88,  9, 24, 79,  2],\n",
       "       [73, 93, 66, 43, 74],\n",
       "       [95, 59, 17, 61,  0],\n",
       "       [25,  3, 55, 88, 76],\n",
       "       [93, 16, 64, 95, 96],\n",
       "       [61,  1,  5, 40, 71],\n",
       "       [29, 22, 34, 72, 33],\n",
       "       [72, 26, 66, 38, 30],\n",
       "       [19, 71, 26,  6, 56],\n",
       "       [86, 47, 19,  0, 86],\n",
       "       [32,  3, 16, 78, 78],\n",
       "       [ 7, 15, 58, 34, 61],\n",
       "       [42, 91, 53, 17, 60],\n",
       "       [ 2, 57, 49, 40, 98],\n",
       "       [62, 45, 95, 99, 50],\n",
       "       [45, 90, 32, 25, 88],\n",
       "       [70, 33, 35, 35, 95],\n",
       "       [78, 45,  5, 55, 69],\n",
       "       [79, 32, 81, 11, 70],\n",
       "       [25, 56, 93, 22, 79],\n",
       "       [38, 52, 90, 43, 94],\n",
       "       [ 9, 73, 50, 10, 98],\n",
       "       [ 4,  1, 34, 62, 54],\n",
       "       [87, 60, 47, 23, 10],\n",
       "       [23, 99, 61, 29, 94],\n",
       "       [57,  8,  3, 54, 24],\n",
       "       [58, 67, 94, 97, 46],\n",
       "       [ 6, 36, 70, 88,  1],\n",
       "       [ 8,  5, 35, 51, 81],\n",
       "       [92, 77, 21, 49, 35],\n",
       "       [95,  1, 77, 95, 85],\n",
       "       [82, 68, 23, 46, 35],\n",
       "       [ 0,  1, 99, 83, 63],\n",
       "       [78, 90, 46, 13,  4],\n",
       "       [45, 14,  6, 62, 43],\n",
       "       [34, 18, 61, 71, 61],\n",
       "       [ 4, 45, 99, 82, 68],\n",
       "       [43, 83, 11, 27, 38],\n",
       "       [53, 44, 55, 35,  1]])"
      ]
     },
     "execution_count": 126,
     "metadata": {},
     "output_type": "execute_result"
    }
   ],
   "source": [
    "x"
   ]
  },
  {
   "cell_type": "code",
   "execution_count": 127,
   "metadata": {},
   "outputs": [
    {
     "data": {
      "text/plain": [
       "array([1001,  793,  838,  508,  517,  614,  662, 1149,  520,  826,  266,\n",
       "        678,  776,  534,  504,  829,  676,  716,  736, 1328,  929, 1106,\n",
       "        752,  452,  802,  820,  647,  846,  545,  857,  322,  523,  643,\n",
       "        929,  591,  527,  538,  480,  814,  758,  955, 1091,  903,  472,\n",
       "        790, 1234,  621,  606,  765,  623, 1269,  642,  719,  977, 1182,\n",
       "       1030, 1201,  854,  462,  636,  573,  504,  999,  508,  928, 1177,\n",
       "        593,  628,  624,  543,  667,  788,  652,  751,  913, 1083,  861,\n",
       "        856,  748,  780,  899, 1054,  835,  626,  490,  990,  418, 1092,\n",
       "        645,  732,  680, 1133,  646,  946,  468,  554,  842, 1059,  540,\n",
       "        451])"
      ]
     },
     "execution_count": 127,
     "metadata": {},
     "output_type": "execute_result"
    }
   ],
   "source": [
    "y = x[:,0] * 1 + x[:,1] * 2 + x[:,2] * 3 + x[:,3] * 4 + x[:,4] * 5\n",
    "y"
   ]
  },
  {
   "cell_type": "code",
   "execution_count": 128,
   "metadata": {},
   "outputs": [
    {
     "data": {
      "text/plain": [
       "array([[1001],\n",
       "       [ 793],\n",
       "       [ 838],\n",
       "       [ 508],\n",
       "       [ 517],\n",
       "       [ 614],\n",
       "       [ 662],\n",
       "       [1149],\n",
       "       [ 520],\n",
       "       [ 826],\n",
       "       [ 266],\n",
       "       [ 678],\n",
       "       [ 776],\n",
       "       [ 534],\n",
       "       [ 504],\n",
       "       [ 829],\n",
       "       [ 676],\n",
       "       [ 716],\n",
       "       [ 736],\n",
       "       [1328],\n",
       "       [ 929],\n",
       "       [1106],\n",
       "       [ 752],\n",
       "       [ 452],\n",
       "       [ 802],\n",
       "       [ 820],\n",
       "       [ 647],\n",
       "       [ 846],\n",
       "       [ 545],\n",
       "       [ 857],\n",
       "       [ 322],\n",
       "       [ 523],\n",
       "       [ 643],\n",
       "       [ 929],\n",
       "       [ 591],\n",
       "       [ 527],\n",
       "       [ 538],\n",
       "       [ 480],\n",
       "       [ 814],\n",
       "       [ 758],\n",
       "       [ 955],\n",
       "       [1091],\n",
       "       [ 903],\n",
       "       [ 472],\n",
       "       [ 790],\n",
       "       [1234],\n",
       "       [ 621],\n",
       "       [ 606],\n",
       "       [ 765],\n",
       "       [ 623],\n",
       "       [1269],\n",
       "       [ 642],\n",
       "       [ 719],\n",
       "       [ 977],\n",
       "       [1182],\n",
       "       [1030],\n",
       "       [1201],\n",
       "       [ 854],\n",
       "       [ 462],\n",
       "       [ 636],\n",
       "       [ 573],\n",
       "       [ 504],\n",
       "       [ 999],\n",
       "       [ 508],\n",
       "       [ 928],\n",
       "       [1177],\n",
       "       [ 593],\n",
       "       [ 628],\n",
       "       [ 624],\n",
       "       [ 543],\n",
       "       [ 667],\n",
       "       [ 788],\n",
       "       [ 652],\n",
       "       [ 751],\n",
       "       [ 913],\n",
       "       [1083],\n",
       "       [ 861],\n",
       "       [ 856],\n",
       "       [ 748],\n",
       "       [ 780],\n",
       "       [ 899],\n",
       "       [1054],\n",
       "       [ 835],\n",
       "       [ 626],\n",
       "       [ 490],\n",
       "       [ 990],\n",
       "       [ 418],\n",
       "       [1092],\n",
       "       [ 645],\n",
       "       [ 732],\n",
       "       [ 680],\n",
       "       [1133],\n",
       "       [ 646],\n",
       "       [ 946],\n",
       "       [ 468],\n",
       "       [ 554],\n",
       "       [ 842],\n",
       "       [1059],\n",
       "       [ 540],\n",
       "       [ 451]])"
      ]
     },
     "execution_count": 128,
     "metadata": {},
     "output_type": "execute_result"
    }
   ],
   "source": [
    "y = np.resize(y,(100,1))\n",
    "y"
   ]
  },
  {
   "cell_type": "code",
   "execution_count": 156,
   "metadata": {},
   "outputs": [],
   "source": [
    "net = NeuralNet(x,y,5,0.00000001)"
   ]
  },
  {
   "cell_type": "code",
   "execution_count": 157,
   "metadata": {},
   "outputs": [
    {
     "data": {
      "image/png": "[encoded data removed]",
      "text/plain": [
       "<Figure size 640x480 with 1 Axes>"
      ]
     },
     "metadata": {},
     "output_type": "display_data"
    }
   ],
   "source": [
    "net.train(1000)"
   ]
  },
  {
   "cell_type": "code",
   "execution_count": 158,
   "metadata": {},
   "outputs": [],
   "source": [
    "test = np.array([[505,404,303,202,101]])"
   ]
  },
  {
   "cell_type": "code",
   "execution_count": 159,
   "metadata": {},
   "outputs": [
    {
     "data": {
      "text/plain": [
       "array([3535])"
      ]
     },
     "execution_count": 159,
     "metadata": {},
     "output_type": "execute_result"
    }
   ],
   "source": [
    "ans = generate_y(test)\n",
    "ans"
   ]
  },
  {
   "cell_type": "code",
   "execution_count": 160,
   "metadata": {},
   "outputs": [
    {
     "data": {
      "text/plain": [
       "array([[3535.0133343]])"
      ]
     },
     "execution_count": 160,
     "metadata": {},
     "output_type": "execute_result"
    }
   ],
   "source": [
    "net.predict(test)"
   ]
  }
 ],
 "metadata": {
  "kernelspec": {
   "display_name": "Python 3",
   "language": "python",
   "name": "python3"
  },
  "language_info": {
   "codemirror_mode": {
    "name": "ipython",
    "version": 3
   },
   "file_extension": ".py",
   "mimetype": "text/x-python",
   "name": "python",
   "nbconvert_exporter": "python",
   "pygments_lexer": "ipython3",
   "version": "3.8.10"
  },
  "orig_nbformat": 4,
  "vscode": {
   "interpreter": {
    "hash": "916dbcbb3f70747c44a77c7bcd40155683ae19c65e1c03b4aa3499c5328201f1"
   }
  }
 },
 "nbformat": 4,
 "nbformat_minor": 2
}
