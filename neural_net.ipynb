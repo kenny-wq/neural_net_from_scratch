{
 "cells": [
  {
   "cell_type": "code",
   "execution_count": 4,
   "metadata": {},
   "outputs": [],
   "source": [
    "import numpy as np\n",
    "import pandas as pd\n",
    "import matplotlib.pyplot as plt"
   ]
  },
  {
   "attachments": {},
   "cell_type": "markdown",
   "metadata": {},
   "source": [
    "### utility functions"
   ]
  },
  {
   "cell_type": "code",
   "execution_count": 5,
   "metadata": {},
   "outputs": [],
   "source": [
    "def generate_y(x: np.ndarray):\n",
    "    return x[:,0] * 1 + x[:,1] * 2 + x[:,2] * 3 + x[:,3] * 4 + x[:,4] * 5"
   ]
  },
  {
   "cell_type": "code",
   "execution_count": 6,
   "metadata": {},
   "outputs": [],
   "source": [
    "def relu(x: np.ndarray):\n",
    "    return np.maximum(0,x)"
   ]
  },
  {
   "cell_type": "code",
   "execution_count": 7,
   "metadata": {},
   "outputs": [],
   "source": [
    "def d_relu(x: np.ndarray):\n",
    "    return x > 0"
   ]
  },
  {
   "cell_type": "code",
   "execution_count": 8,
   "metadata": {},
   "outputs": [],
   "source": [
    "def mse_loss(y: np.ndarray, label: np.ndarray):\n",
    "    error = 0\n",
    "    for i in range(len(y)):\n",
    "        error += (y[i,0] - label[i,0])**2\n",
    "    return error"
   ]
  },
  {
   "cell_type": "code",
   "execution_count": 9,
   "metadata": {},
   "outputs": [],
   "source": [
    "def d_mse_loss(y: np.ndarray, label: np.ndarray):\n",
    "    return 2*(y - label)"
   ]
  },
  {
   "attachments": {},
   "cell_type": "markdown",
   "metadata": {},
   "source": [
    "### neural net"
   ]
  },
  {
   "cell_type": "code",
   "execution_count": 10,
   "metadata": {},
   "outputs": [],
   "source": [
    "class Layer:\n",
    "    def __init__(self,data_size, feature_number, neuron_number, linear: bool, lr: float, final: bool):\n",
    "        self.input = np.random.rand(data_size,feature_number)\n",
    "        self.weight = np.random.rand(feature_number,neuron_number)\n",
    "        self.output = np.random.rand(data_size,1)\n",
    "        self.linear = linear\n",
    "        self.lr = lr\n",
    "        self.final = final\n",
    "\n",
    "    def forward(self, input: np.ndarray):\n",
    "        self.input = input \n",
    "        if self.linear == True:\n",
    "            self.output = np.dot(input, self.weight) \n",
    "        else:\n",
    "            self.output = relu(np.dot(input,self.weight)) \n",
    "        self.z = np.dot(input, self.weight) \n",
    "\n",
    "    def backward(self, input: np.ndarray, lr: float, d_loss: np.ndarray):\n",
    "        if self.final == True: # \n",
    "            self.backgradient = d_loss\n",
    "            return np.dot(self.backgradient, self.weight.T) \n",
    "        else:\n",
    "            self.backgradient = np.multiply(d_relu(self.z),d_loss) \n",
    "            return np.dot(self.backgradient, self.weight.T) \n",
    "\n",
    "    def update(self, lr: float):\n",
    "        if self.final == True:\n",
    "            gradient = np.dot(self.input.T, self.backgradient) \n",
    "            self.weight -= lr * gradient\n",
    "        else:\n",
    "            gradient = np.dot(self.input.T, self.backgradient) \n",
    "            self.weight -= lr * gradient"
   ]
  },
  {
   "cell_type": "code",
   "execution_count": 22,
   "metadata": {},
   "outputs": [],
   "source": [
    "class NeuralNet:\n",
    "    def __init__(self, train_X: np.ndarray, train_y: np.ndarray, neuron_number, lr: float) -> None:\n",
    "        self.train_X = train_X\n",
    "        self.train_y = train_y\n",
    "        self.output = np.zeros(train_y.shape)\n",
    "        self.layer1 = Layer(len(train_X),len(train_X[0]), neuron_number, False, lr, False)\n",
    "        self.layer2 = Layer(len(train_X),len(train_X[0]), neuron_number, False, lr, False)\n",
    "        self.outputlayer = Layer(len(train_X),len(train_X[0]), 1, True, lr, True)\n",
    "        self.lr = lr\n",
    "        \n",
    "    def forward(self):\n",
    "        input = self.train_X\n",
    "        self.layer1.forward(input)\n",
    "        self.layer2.forward(self.layer1.output)\n",
    "        self.outputlayer.forward(self.layer2.output)\n",
    "        self.output = self.outputlayer.output\n",
    "        return self.output\n",
    "\n",
    "    def backward(self, d_loss: np.ndarray):\n",
    "        d_loss = self.outputlayer.backward(self.layer2.output,self.lr,d_loss)\n",
    "        d_loss = self.layer2.backward(self.layer1.output, self.lr, d_loss)\n",
    "        self.layer1.backward(self.train_X,self.lr,d_loss)\n",
    "\n",
    "    def update(self):\n",
    "        self.layer1.update(self.lr)\n",
    "        self.layer2.update(self.lr)\n",
    "        self.outputlayer.update(self.lr)\n",
    "\n",
    "    def train(self, times: int):\n",
    "        loss_list = []\n",
    "        for i in range(times):\n",
    "            self.forward()\n",
    "            loss = mse_loss(self.output, self.train_y)\n",
    "            loss_list.append(loss)\n",
    "            d_loss = d_mse_loss(self.output, self.train_y)\n",
    "            self.backward(d_loss)\n",
    "            self.update()\n",
    "\n",
    "            if loss < 0.001:\n",
    "                plt.title(\"loss\")\n",
    "                plt.plot(loss_list)\n",
    "                break\n",
    "        # print(loss_list)\n",
    "        plt.title(\"loss\")\n",
    "        plt.plot(loss_list)\n",
    "        \n",
    "    def predict(self, input: np.array):\n",
    "        self.layer1.forward(input)\n",
    "        self.layer2.forward(self.layer1.output)\n",
    "        self.outputlayer.forward(self.layer2.output)\n",
    "        return self.outputlayer.output\n"
   ]
  },
  {
   "attachments": {},
   "cell_type": "markdown",
   "metadata": {},
   "source": [
    "### generate training data"
   ]
  },
  {
   "cell_type": "code",
   "execution_count": 12,
   "metadata": {},
   "outputs": [],
   "source": [
    "x = np.random.randint(0,100,size=(100,5))"
   ]
  },
  {
   "cell_type": "code",
   "execution_count": 13,
   "metadata": {},
   "outputs": [
    {
     "data": {
      "text/plain": [
       "array([[23, 75, 35, 91, 99],\n",
       "       [64,  8, 74, 44, 80],\n",
       "       [ 5, 50, 69, 28, 52],\n",
       "       [69,  9, 38, 65, 43],\n",
       "       [61, 98, 24, 73, 81],\n",
       "       [82, 38, 20, 45, 12],\n",
       "       [40, 55, 76, 41, 49],\n",
       "       [16, 46, 35, 24, 97],\n",
       "       [45, 42,  4, 89, 13],\n",
       "       [98,  2, 54, 57, 14]])"
      ]
     },
     "execution_count": 13,
     "metadata": {},
     "output_type": "execute_result"
    }
   ],
   "source": [
    "x[:10]"
   ]
  },
  {
   "cell_type": "code",
   "execution_count": 14,
   "metadata": {},
   "outputs": [
    {
     "data": {
      "text/plain": [
       "array([1137,  878,  684,  676, 1026,  458,  787,  794,  562,  562, 1064,\n",
       "        484,  652,  470,  894, 1098,  944,  409,  984,  661,  879,  853,\n",
       "        458,  736, 1044,  595,  983,  460,  302,  754,  899,  620,  725,\n",
       "        968,  713,  407,  684,  641,  669,  748,  932,  815,  514,  867,\n",
       "        691,  596,  597,  903,  738,  818,  399,  413,  653,  772,   94,\n",
       "        417, 1059,  794,  663,  692,  810, 1068,  729,  246,  659,  921,\n",
       "        556, 1018,  904, 1071,  702,  742,  332,  990,  998,  548,  586,\n",
       "        935,  819,  767,  507,  527,  312,  396,  864,  821, 1068,  600,\n",
       "        852,  807,  664,  726,  726,  487,  916,  823,  432,  813,  827,\n",
       "       1139])"
      ]
     },
     "execution_count": 14,
     "metadata": {},
     "output_type": "execute_result"
    }
   ],
   "source": [
    "y = x[:,0] * 1 + x[:,1] * 2 + x[:,2] * 3 + x[:,3] * 4 + x[:,4] * 5\n",
    "y"
   ]
  },
  {
   "cell_type": "code",
   "execution_count": 21,
   "metadata": {},
   "outputs": [
    {
     "data": {
      "text/plain": [
       "array([[1137],\n",
       "       [ 878],\n",
       "       [ 684],\n",
       "       [ 676],\n",
       "       [1026],\n",
       "       [ 458],\n",
       "       [ 787],\n",
       "       [ 794],\n",
       "       [ 562],\n",
       "       [ 562]])"
      ]
     },
     "execution_count": 21,
     "metadata": {},
     "output_type": "execute_result"
    }
   ],
   "source": [
    "y = np.resize(y,(100,1))\n",
    "y[:10]"
   ]
  },
  {
   "attachments": {},
   "cell_type": "markdown",
   "metadata": {},
   "source": [
    "### training"
   ]
  },
  {
   "cell_type": "code",
   "execution_count": 23,
   "metadata": {},
   "outputs": [],
   "source": [
    "net = NeuralNet(x,y,5,0.00000001)"
   ]
  },
  {
   "cell_type": "code",
   "execution_count": 24,
   "metadata": {},
   "outputs": [
    {
     "data": {
      "image/png": "[encoded data removed]",
      "text/plain": [
       "<Figure size 640x480 with 1 Axes>"
      ]
     },
     "metadata": {},
     "output_type": "display_data"
    }
   ],
   "source": [
    "net.train(1000)"
   ]
  },
  {
   "attachments": {},
   "cell_type": "markdown",
   "metadata": {},
   "source": [
    "### test"
   ]
  },
  {
   "cell_type": "code",
   "execution_count": 18,
   "metadata": {},
   "outputs": [],
   "source": [
    "test = np.array([[505,404,303,202,101]])"
   ]
  },
  {
   "cell_type": "code",
   "execution_count": 19,
   "metadata": {},
   "outputs": [
    {
     "data": {
      "text/plain": [
       "array([3535])"
      ]
     },
     "execution_count": 19,
     "metadata": {},
     "output_type": "execute_result"
    }
   ],
   "source": [
    "ans = generate_y(test)\n",
    "ans"
   ]
  },
  {
   "cell_type": "code",
   "execution_count": 20,
   "metadata": {},
   "outputs": [
    {
     "data": {
      "text/plain": [
       "array([[3535.01405808]])"
      ]
     },
     "execution_count": 20,
     "metadata": {},
     "output_type": "execute_result"
    }
   ],
   "source": [
    "net.predict(test)"
   ]
  }
 ],
 "metadata": {
  "kernelspec": {
   "display_name": "Python 3",
   "language": "python",
   "name": "python3"
  },
  "language_info": {
   "codemirror_mode": {
    "name": "ipython",
    "version": 3
   },
   "file_extension": ".py",
   "mimetype": "text/x-python",
   "name": "python",
   "nbconvert_exporter": "python",
   "pygments_lexer": "ipython3",
   "version": "3.8.10"
  },
  "orig_nbformat": 4,
  "vscode": {
   "interpreter": {
    "hash": "916dbcbb3f70747c44a77c7bcd40155683ae19c65e1c03b4aa3499c5328201f1"
   }
  }
 },
 "nbformat": 4,
 "nbformat_minor": 2
}
